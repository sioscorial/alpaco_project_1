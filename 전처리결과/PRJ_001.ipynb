{
 "cells": [
  {
   "cell_type": "code",
   "execution_count": 1,
   "metadata": {},
   "outputs": [],
   "source": [
    "import pandas as pd"
   ]
  },
  {
   "cell_type": "code",
   "execution_count": 2,
   "metadata": {},
   "outputs": [],
   "source": [
    "re_movies_df = pd.read_csv('movie_out.csv')"
   ]
  },
  {
   "cell_type": "code",
   "execution_count": 16,
   "metadata": {},
   "outputs": [
    {
     "data": {
      "text/html": [
       "<div>\n",
       "<style scoped>\n",
       "    .dataframe tbody tr th:only-of-type {\n",
       "        vertical-align: middle;\n",
       "    }\n",
       "\n",
       "    .dataframe tbody tr th {\n",
       "        vertical-align: top;\n",
       "    }\n",
       "\n",
       "    .dataframe thead th {\n",
       "        text-align: right;\n",
       "    }\n",
       "</style>\n",
       "<table border=\"1\" class=\"dataframe\">\n",
       "  <thead>\n",
       "    <tr style=\"text-align: right;\">\n",
       "      <th></th>\n",
       "      <th>id</th>\n",
       "      <th>영화제목</th>\n",
       "      <th>개봉일</th>\n",
       "      <th>매출액</th>\n",
       "      <th>매출액.1</th>\n",
       "      <th>누적매출액</th>\n",
       "      <th>관객수</th>\n",
       "      <th>누적관객수</th>\n",
       "      <th>스크린수</th>\n",
       "      <th>상영횟수</th>\n",
       "      <th>...</th>\n",
       "      <th>4990</th>\n",
       "      <th>4991</th>\n",
       "      <th>4992</th>\n",
       "      <th>4993</th>\n",
       "      <th>4994</th>\n",
       "      <th>4995</th>\n",
       "      <th>4996</th>\n",
       "      <th>4997</th>\n",
       "      <th>4998</th>\n",
       "      <th>4999</th>\n",
       "    </tr>\n",
       "  </thead>\n",
       "  <tbody>\n",
       "    <tr>\n",
       "      <th>0</th>\n",
       "      <td>0</td>\n",
       "      <td>스파이더맨: 노 웨이 홈</td>\n",
       "      <td>2021-12-15</td>\n",
       "      <td>53,772,689,910</td>\n",
       "      <td>4.9%</td>\n",
       "      <td>53772689910</td>\n",
       "      <td>5369773</td>\n",
       "      <td>5369773</td>\n",
       "      <td>2948</td>\n",
       "      <td>137848</td>\n",
       "      <td>...</td>\n",
       "      <td>0.0</td>\n",
       "      <td>0.0</td>\n",
       "      <td>0.009087</td>\n",
       "      <td>0.0</td>\n",
       "      <td>0.0</td>\n",
       "      <td>0.041833</td>\n",
       "      <td>0.0</td>\n",
       "      <td>0.0</td>\n",
       "      <td>0.0</td>\n",
       "      <td>0.0</td>\n",
       "    </tr>\n",
       "    <tr>\n",
       "      <th>1</th>\n",
       "      <td>1</td>\n",
       "      <td>남산의 부장들</td>\n",
       "      <td>2020-01-22</td>\n",
       "      <td>41,225,216,650</td>\n",
       "      <td>3.8%</td>\n",
       "      <td>41225216650</td>\n",
       "      <td>4750345</td>\n",
       "      <td>4750345</td>\n",
       "      <td>1659</td>\n",
       "      <td>140051</td>\n",
       "      <td>...</td>\n",
       "      <td>0.0</td>\n",
       "      <td>0.0</td>\n",
       "      <td>0.000000</td>\n",
       "      <td>0.0</td>\n",
       "      <td>0.0</td>\n",
       "      <td>0.000000</td>\n",
       "      <td>0.0</td>\n",
       "      <td>0.0</td>\n",
       "      <td>0.0</td>\n",
       "      <td>0.0</td>\n",
       "    </tr>\n",
       "  </tbody>\n",
       "</table>\n",
       "<p>2 rows × 25122 columns</p>\n",
       "</div>"
      ],
      "text/plain": [
       "   id           영화제목         개봉일             매출액 매출액.1        누적매출액      관객수  \\\n",
       "0   0  스파이더맨: 노 웨이 홈  2021-12-15  53,772,689,910  4.9%  53772689910  5369773   \n",
       "1   1        남산의 부장들  2020-01-22  41,225,216,650  3.8%  41225216650  4750345   \n",
       "\n",
       "     누적관객수  스크린수    상영횟수  ... 4990  4991      4992  4993  4994      4995  \\\n",
       "0  5369773  2948  137848  ...  0.0   0.0  0.009087   0.0   0.0  0.041833   \n",
       "1  4750345  1659  140051  ...  0.0   0.0  0.000000   0.0   0.0  0.000000   \n",
       "\n",
       "   4996  4997  4998  4999  \n",
       "0   0.0   0.0   0.0   0.0  \n",
       "1   0.0   0.0   0.0   0.0  \n",
       "\n",
       "[2 rows x 25122 columns]"
      ]
     },
     "execution_count": 16,
     "metadata": {},
     "output_type": "execute_result"
    }
   ],
   "source": [
    "re_movies_df.head(2)"
   ]
  },
  {
   "cell_type": "code",
   "execution_count": 3,
   "metadata": {},
   "outputs": [
    {
     "data": {
      "text/plain": [
       "(3299, 25122)"
      ]
     },
     "execution_count": 3,
     "metadata": {},
     "output_type": "execute_result"
    }
   ],
   "source": [
    "re_movies_df.shape"
   ]
  },
  {
   "cell_type": "code",
   "execution_count": 4,
   "metadata": {},
   "outputs": [
    {
     "name": "stdout",
     "output_type": "stream",
     "text": [
      "<class 'pandas.core.frame.DataFrame'>\n",
      "RangeIndex: 3299 entries, 0 to 3298\n",
      "Columns: 25109 entries, 제작사_(사)정신대할머니와함께하는시민모임 to 4999\n",
      "dtypes: float64(5000), int64(20109)\n",
      "memory usage: 632.0 MB\n"
     ]
    }
   ],
   "source": [
    "# 그 외 필요한 전처리\n",
    "X = re_movies_df.copy()\n",
    "y = re_movies_df['누적관객수']\n",
    "X.drop(['id','영화소개','누적관객수','영화제목','개봉일','매출액','매출액.1','누적매출액','관객수','스크린수','상영횟수','body_key','body_pos'],inplace=True,axis=1)\n",
    "X.shape, y.shape\n",
    "X.info()"
   ]
  },
  {
   "cell_type": "code",
   "execution_count": 23,
   "metadata": {},
   "outputs": [
    {
     "data": {
      "text/html": [
       "<div>\n",
       "<style scoped>\n",
       "    .dataframe tbody tr th:only-of-type {\n",
       "        vertical-align: middle;\n",
       "    }\n",
       "\n",
       "    .dataframe tbody tr th {\n",
       "        vertical-align: top;\n",
       "    }\n",
       "\n",
       "    .dataframe thead th {\n",
       "        text-align: right;\n",
       "    }\n",
       "</style>\n",
       "<table border=\"1\" class=\"dataframe\">\n",
       "  <thead>\n",
       "    <tr style=\"text-align: right;\">\n",
       "      <th></th>\n",
       "      <th>제작사_(사)정신대할머니와함께하는시민모임</th>\n",
       "      <th>제작사_(유)내부자들 문화전문회사</th>\n",
       "      <th>제작사_(유)안녕하세요</th>\n",
       "      <th>제작사_(유)조이앤시네마</th>\n",
       "      <th>제작사_(재)CBS</th>\n",
       "      <th>제작사_(재)무주산골문화재단</th>\n",
       "      <th>제작사_(재)서울예술단</th>\n",
       "      <th>제작사_(재)전주국제영화제조직위원회</th>\n",
       "      <th>제작사_(주) 루스이소니도스</th>\n",
       "      <th>제작사_(주)26컴퍼니</th>\n",
       "      <th>...</th>\n",
       "      <th>4990</th>\n",
       "      <th>4991</th>\n",
       "      <th>4992</th>\n",
       "      <th>4993</th>\n",
       "      <th>4994</th>\n",
       "      <th>4995</th>\n",
       "      <th>4996</th>\n",
       "      <th>4997</th>\n",
       "      <th>4998</th>\n",
       "      <th>4999</th>\n",
       "    </tr>\n",
       "  </thead>\n",
       "  <tbody>\n",
       "    <tr>\n",
       "      <th>0</th>\n",
       "      <td>0</td>\n",
       "      <td>0</td>\n",
       "      <td>0</td>\n",
       "      <td>0</td>\n",
       "      <td>0</td>\n",
       "      <td>0</td>\n",
       "      <td>0</td>\n",
       "      <td>0</td>\n",
       "      <td>0</td>\n",
       "      <td>0</td>\n",
       "      <td>...</td>\n",
       "      <td>0.0</td>\n",
       "      <td>0.0</td>\n",
       "      <td>0.009087</td>\n",
       "      <td>0.0</td>\n",
       "      <td>0.0</td>\n",
       "      <td>0.041833</td>\n",
       "      <td>0.0</td>\n",
       "      <td>0.0</td>\n",
       "      <td>0.0</td>\n",
       "      <td>0.0</td>\n",
       "    </tr>\n",
       "    <tr>\n",
       "      <th>1</th>\n",
       "      <td>0</td>\n",
       "      <td>0</td>\n",
       "      <td>0</td>\n",
       "      <td>0</td>\n",
       "      <td>0</td>\n",
       "      <td>0</td>\n",
       "      <td>0</td>\n",
       "      <td>0</td>\n",
       "      <td>0</td>\n",
       "      <td>0</td>\n",
       "      <td>...</td>\n",
       "      <td>0.0</td>\n",
       "      <td>0.0</td>\n",
       "      <td>0.000000</td>\n",
       "      <td>0.0</td>\n",
       "      <td>0.0</td>\n",
       "      <td>0.000000</td>\n",
       "      <td>0.0</td>\n",
       "      <td>0.0</td>\n",
       "      <td>0.0</td>\n",
       "      <td>0.0</td>\n",
       "    </tr>\n",
       "  </tbody>\n",
       "</table>\n",
       "<p>2 rows × 25109 columns</p>\n",
       "</div>"
      ],
      "text/plain": [
       "   제작사_(사)정신대할머니와함께하는시민모임  제작사_(유)내부자들 문화전문회사  제작사_(유)안녕하세요  제작사_(유)조이앤시네마  \\\n",
       "0                       0                   0             0              0   \n",
       "1                       0                   0             0              0   \n",
       "\n",
       "   제작사_(재)CBS  제작사_(재)무주산골문화재단  제작사_(재)서울예술단  제작사_(재)전주국제영화제조직위원회  \\\n",
       "0           0                0             0                    0   \n",
       "1           0                0             0                    0   \n",
       "\n",
       "   제작사_(주) 루스이소니도스  제작사_(주)26컴퍼니  ...  4990  4991      4992  4993  4994  \\\n",
       "0                0             0  ...   0.0   0.0  0.009087   0.0   0.0   \n",
       "1                0             0  ...   0.0   0.0  0.000000   0.0   0.0   \n",
       "\n",
       "       4995  4996  4997  4998  4999  \n",
       "0  0.041833   0.0   0.0   0.0   0.0  \n",
       "1  0.000000   0.0   0.0   0.0   0.0  \n",
       "\n",
       "[2 rows x 25109 columns]"
      ]
     },
     "execution_count": 23,
     "metadata": {},
     "output_type": "execute_result"
    }
   ],
   "source": [
    "X.head(2)"
   ]
  },
  {
   "cell_type": "code",
   "execution_count": 24,
   "metadata": {},
   "outputs": [
    {
     "data": {
      "text/plain": [
       "0    5369773\n",
       "1    4750345\n",
       "Name: 누적관객수, dtype: int64"
      ]
     },
     "execution_count": 24,
     "metadata": {},
     "output_type": "execute_result"
    }
   ],
   "source": [
    "y.head(2)"
   ]
  }
 ],
 "metadata": {
  "kernelspec": {
   "display_name": "Python 3",
   "language": "python",
   "name": "python3"
  },
  "language_info": {
   "codemirror_mode": {
    "name": "ipython",
    "version": 3
   },
   "file_extension": ".py",
   "mimetype": "text/x-python",
   "name": "python",
   "nbconvert_exporter": "python",
   "pygments_lexer": "ipython3",
   "version": "3.10.13"
  }
 },
 "nbformat": 4,
 "nbformat_minor": 2
}
